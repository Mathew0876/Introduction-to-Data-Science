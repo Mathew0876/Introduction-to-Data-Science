{
 "cells": [
  {
   "cell_type": "markdown",
   "metadata": {},
   "source": [
    "# Form 4-Exploratory Data Analysis\n",
    "Mathew Smith\n",
    "101029870\n",
    "\n",
    "How do countries from Europe & Central Asia compare to East Asia & the Pacific in the rate of growth in GDP?\n",
    "Choose one year, for any given country where a substantial change in GDP occurred. Describe what event was likely to be the most responsible for the change?\n",
    "What methods did you use to compare the GDP growth and identify the change in GDP?"
   ]
  },
  {
   "cell_type": "code",
   "execution_count": 4,
   "metadata": {
    "scrolled": true
   },
   "outputs": [
    {
     "data": {
      "text/html": [
       "<div>\n",
       "<style scoped>\n",
       "    .dataframe tbody tr th:only-of-type {\n",
       "        vertical-align: middle;\n",
       "    }\n",
       "\n",
       "    .dataframe tbody tr th {\n",
       "        vertical-align: top;\n",
       "    }\n",
       "\n",
       "    .dataframe thead th {\n",
       "        text-align: right;\n",
       "    }\n",
       "</style>\n",
       "<table border=\"1\" class=\"dataframe\">\n",
       "  <thead>\n",
       "    <tr style=\"text-align: right;\">\n",
       "      <th></th>\n",
       "      <th>Nº</th>\n",
       "      <th>Country</th>\n",
       "      <th>2010</th>\n",
       "      <th>2011</th>\n",
       "      <th>2012</th>\n",
       "      <th>2013</th>\n",
       "      <th>2014</th>\n",
       "      <th>2015</th>\n",
       "      <th>2016</th>\n",
       "      <th>2017</th>\n",
       "      <th>2018</th>\n",
       "      <th>2019</th>\n",
       "      <th>Region</th>\n",
       "    </tr>\n",
       "  </thead>\n",
       "  <tbody>\n",
       "    <tr>\n",
       "      <th>0</th>\n",
       "      <td>1</td>\n",
       "      <td>Afghanistan</td>\n",
       "      <td>532.07</td>\n",
       "      <td>602.18</td>\n",
       "      <td>661.09</td>\n",
       "      <td>635.64</td>\n",
       "      <td>629.92</td>\n",
       "      <td>599.35</td>\n",
       "      <td>519.22</td>\n",
       "      <td>532.22</td>\n",
       "      <td>505.91</td>\n",
       "      <td>507.29</td>\n",
       "      <td>South Asia</td>\n",
       "    </tr>\n",
       "    <tr>\n",
       "      <th>1</th>\n",
       "      <td>2</td>\n",
       "      <td>Albania</td>\n",
       "      <td>4097.83</td>\n",
       "      <td>4439.89</td>\n",
       "      <td>4248.91</td>\n",
       "      <td>4415.60</td>\n",
       "      <td>4584.92</td>\n",
       "      <td>3953.61</td>\n",
       "      <td>4124.40</td>\n",
       "      <td>4542.76</td>\n",
       "      <td>5284.44</td>\n",
       "      <td>5323.18</td>\n",
       "      <td>Europe &amp; Central Asia</td>\n",
       "    </tr>\n",
       "    <tr>\n",
       "      <th>2</th>\n",
       "      <td>3</td>\n",
       "      <td>Algeria</td>\n",
       "      <td>4480.72</td>\n",
       "      <td>5453.89</td>\n",
       "      <td>5574.51</td>\n",
       "      <td>5477.06</td>\n",
       "      <td>5466.33</td>\n",
       "      <td>4153.32</td>\n",
       "      <td>3918.94</td>\n",
       "      <td>4012.13</td>\n",
       "      <td>4080.91</td>\n",
       "      <td>3898.01</td>\n",
       "      <td>Middle East &amp; North Africa</td>\n",
       "    </tr>\n",
       "    <tr>\n",
       "      <th>3</th>\n",
       "      <td>4</td>\n",
       "      <td>Angola</td>\n",
       "      <td>3641.44</td>\n",
       "      <td>4716.25</td>\n",
       "      <td>5245.02</td>\n",
       "      <td>5436.52</td>\n",
       "      <td>5625.74</td>\n",
       "      <td>4354.92</td>\n",
       "      <td>3676.83</td>\n",
       "      <td>4303.69</td>\n",
       "      <td>3620.59</td>\n",
       "      <td>2967.96</td>\n",
       "      <td>Sub-Saharan Africa</td>\n",
       "    </tr>\n",
       "    <tr>\n",
       "      <th>4</th>\n",
       "      <td>5</td>\n",
       "      <td>Antigua and Barbuda</td>\n",
       "      <td>13564.68</td>\n",
       "      <td>13295.36</td>\n",
       "      <td>13811.08</td>\n",
       "      <td>13392.22</td>\n",
       "      <td>13951.99</td>\n",
       "      <td>14696.89</td>\n",
       "      <td>15556.01</td>\n",
       "      <td>15655.22</td>\n",
       "      <td>16860.96</td>\n",
       "      <td>17195.46</td>\n",
       "      <td>Latin America &amp; Caribbean</td>\n",
       "    </tr>\n",
       "    <tr>\n",
       "      <th>...</th>\n",
       "      <td>...</td>\n",
       "      <td>...</td>\n",
       "      <td>...</td>\n",
       "      <td>...</td>\n",
       "      <td>...</td>\n",
       "      <td>...</td>\n",
       "      <td>...</td>\n",
       "      <td>...</td>\n",
       "      <td>...</td>\n",
       "      <td>...</td>\n",
       "      <td>...</td>\n",
       "      <td>...</td>\n",
       "      <td>...</td>\n",
       "    </tr>\n",
       "    <tr>\n",
       "      <th>184</th>\n",
       "      <td>185</td>\n",
       "      <td>Venezuela</td>\n",
       "      <td>11158.18</td>\n",
       "      <td>12180.03</td>\n",
       "      <td>11993.39</td>\n",
       "      <td>8695.04</td>\n",
       "      <td>6747.67</td>\n",
       "      <td>10568.10</td>\n",
       "      <td>9092.02</td>\n",
       "      <td>4725.05</td>\n",
       "      <td>3404.43</td>\n",
       "      <td>2299.31</td>\n",
       "      <td>Latin America &amp; Caribbean</td>\n",
       "    </tr>\n",
       "    <tr>\n",
       "      <th>185</th>\n",
       "      <td>186</td>\n",
       "      <td>Vietnam</td>\n",
       "      <td>1628.52</td>\n",
       "      <td>1928.27</td>\n",
       "      <td>2173.32</td>\n",
       "      <td>2344.15</td>\n",
       "      <td>2539.34</td>\n",
       "      <td>2555.54</td>\n",
       "      <td>2692.73</td>\n",
       "      <td>2928.88</td>\n",
       "      <td>3181.88</td>\n",
       "      <td>3416.23</td>\n",
       "      <td>East Asia &amp; Pacific</td>\n",
       "    </tr>\n",
       "    <tr>\n",
       "      <th>186</th>\n",
       "      <td>187</td>\n",
       "      <td>Yemen</td>\n",
       "      <td>1266.79</td>\n",
       "      <td>1302.30</td>\n",
       "      <td>1367.72</td>\n",
       "      <td>1515.95</td>\n",
       "      <td>1574.25</td>\n",
       "      <td>1500.69</td>\n",
       "      <td>1061.84</td>\n",
       "      <td>891.89</td>\n",
       "      <td>762.14</td>\n",
       "      <td>713.07</td>\n",
       "      <td>Middle East &amp; North Africa</td>\n",
       "    </tr>\n",
       "    <tr>\n",
       "      <th>187</th>\n",
       "      <td>188</td>\n",
       "      <td>Zambia</td>\n",
       "      <td>1456.16</td>\n",
       "      <td>1635.50</td>\n",
       "      <td>1724.71</td>\n",
       "      <td>1839.54</td>\n",
       "      <td>1727.03</td>\n",
       "      <td>1310.35</td>\n",
       "      <td>1252.70</td>\n",
       "      <td>1500.65</td>\n",
       "      <td>1519.45</td>\n",
       "      <td>1318.47</td>\n",
       "      <td>Sub-Saharan Africa</td>\n",
       "    </tr>\n",
       "    <tr>\n",
       "      <th>188</th>\n",
       "      <td>189</td>\n",
       "      <td>Zimbabwe</td>\n",
       "      <td>975.85</td>\n",
       "      <td>1131.84</td>\n",
       "      <td>1310.37</td>\n",
       "      <td>1421.55</td>\n",
       "      <td>1415.03</td>\n",
       "      <td>1425.01</td>\n",
       "      <td>1409.45</td>\n",
       "      <td>1516.28</td>\n",
       "      <td>1423.10</td>\n",
       "      <td>1254.49</td>\n",
       "      <td>Sub-Saharan Africa</td>\n",
       "    </tr>\n",
       "  </tbody>\n",
       "</table>\n",
       "<p>189 rows × 13 columns</p>\n",
       "</div>"
      ],
      "text/plain": [
       "      Nº              Country      2010      2011      2012      2013  \\\n",
       "0      1          Afghanistan    532.07    602.18    661.09    635.64   \n",
       "1      2              Albania   4097.83   4439.89   4248.91   4415.60   \n",
       "2      3              Algeria   4480.72   5453.89   5574.51   5477.06   \n",
       "3      4               Angola   3641.44   4716.25   5245.02   5436.52   \n",
       "4      5  Antigua and Barbuda  13564.68  13295.36  13811.08  13392.22   \n",
       "..   ...                  ...       ...       ...       ...       ...   \n",
       "184  185            Venezuela  11158.18  12180.03  11993.39   8695.04   \n",
       "185  186              Vietnam   1628.52   1928.27   2173.32   2344.15   \n",
       "186  187                Yemen   1266.79   1302.30   1367.72   1515.95   \n",
       "187  188               Zambia   1456.16   1635.50   1724.71   1839.54   \n",
       "188  189             Zimbabwe    975.85   1131.84   1310.37   1421.55   \n",
       "\n",
       "         2014      2015      2016      2017      2018      2019  \\\n",
       "0      629.92    599.35    519.22    532.22    505.91    507.29   \n",
       "1     4584.92   3953.61   4124.40   4542.76   5284.44   5323.18   \n",
       "2     5466.33   4153.32   3918.94   4012.13   4080.91   3898.01   \n",
       "3     5625.74   4354.92   3676.83   4303.69   3620.59   2967.96   \n",
       "4    13951.99  14696.89  15556.01  15655.22  16860.96  17195.46   \n",
       "..        ...       ...       ...       ...       ...       ...   \n",
       "184   6747.67  10568.10   9092.02   4725.05   3404.43   2299.31   \n",
       "185   2539.34   2555.54   2692.73   2928.88   3181.88   3416.23   \n",
       "186   1574.25   1500.69   1061.84    891.89    762.14    713.07   \n",
       "187   1727.03   1310.35   1252.70   1500.65   1519.45   1318.47   \n",
       "188   1415.03   1425.01   1409.45   1516.28   1423.10   1254.49   \n",
       "\n",
       "                         Region  \n",
       "0                    South Asia  \n",
       "1         Europe & Central Asia  \n",
       "2    Middle East & North Africa  \n",
       "3            Sub-Saharan Africa  \n",
       "4     Latin America & Caribbean  \n",
       "..                          ...  \n",
       "184   Latin America & Caribbean  \n",
       "185         East Asia & Pacific  \n",
       "186  Middle East & North Africa  \n",
       "187          Sub-Saharan Africa  \n",
       "188          Sub-Saharan Africa  \n",
       "\n",
       "[189 rows x 13 columns]"
      ]
     },
     "execution_count": 4,
     "metadata": {},
     "output_type": "execute_result"
    }
   ],
   "source": [
    "import pandas as pd\n",
    "import numpy as np\n",
    "import matplotlib.pyplot as plt\n",
    "\n",
    "#read the file\n",
    "data = pd.read_csv('Wiki_IMF_GDP.csv')\n",
    "#creating a dataframe\n",
    "df = pd.DataFrame(data)\n",
    "df"
   ]
  },
  {
   "cell_type": "markdown",
   "metadata": {},
   "source": [
    "### 1. Compare GDP in Europe & Central Asia to East Asia & the Pacific\n",
    "Then calculate the average change in GDP for the dataset"
   ]
  },
  {
   "cell_type": "code",
   "execution_count": 5,
   "metadata": {},
   "outputs": [
    {
     "data": {
      "text/plain": [
       "count      49.000000\n",
       "mean      232.235367\n",
       "std       682.602646\n",
       "min     -1280.453000\n",
       "25%        17.027000\n",
       "50%       153.279000\n",
       "75%       328.448000\n",
       "max      3180.477000\n",
       "dtype: float64"
      ]
     },
     "execution_count": 5,
     "metadata": {},
     "output_type": "execute_result"
    }
   ],
   "source": [
    "#create Europe & Central Asia dataframe\n",
    "ecadf = df[df.Region=='Europe & Central Asia']\n",
    "ecadf\n",
    "growthrateecadf = (ecadf[\"2019\"]-ecadf[\"2010\"])/10\n",
    "growthrateecadf.describe()\n",
    "\n"
   ]
  },
  {
   "cell_type": "code",
   "execution_count": 10,
   "metadata": {},
   "outputs": [
    {
     "data": {
      "text/plain": [
       "<AxesSubplot:>"
      ]
     },
     "execution_count": 10,
     "metadata": {},
     "output_type": "execute_result"
    },
    {
     "data": {
      "image/png": "[encoded data removed]",
      "text/plain": [
       "<Figure size 432x288 with 1 Axes>"
      ]
     },
     "metadata": {
      "needs_background": "light"
     },
     "output_type": "display_data"
    }
   ],
   "source": [
    "growthrateecadf.hist(histtype = \"stepfilled\", bins=10)"
   ]
  },
  {
   "cell_type": "code",
   "execution_count": 11,
   "metadata": {
    "scrolled": true
   },
   "outputs": [
    {
     "data": {
      "text/plain": [
       "count      31.000000\n",
       "mean      346.079581\n",
       "std       671.453427\n",
       "min      -612.311000\n",
       "25%        70.811000\n",
       "50%       128.144000\n",
       "75%       367.382000\n",
       "max      2833.038000\n",
       "dtype: float64"
      ]
     },
     "execution_count": 11,
     "metadata": {},
     "output_type": "execute_result"
    }
   ],
   "source": [
    "#create East Asia & Pacific dataframe\n",
    "eapdf = df[(df.Region=='East Asia & Pacific')]\n",
    "eapdf\n",
    "growthrateeapdf = (eapdf[\"2019\"]-eapdf[\"2010\"])/10\n",
    "growthrateeapdf.describe()"
   ]
  },
  {
   "cell_type": "code",
   "execution_count": 13,
   "metadata": {},
   "outputs": [
    {
     "data": {
      "text/plain": [
       "<AxesSubplot:>"
      ]
     },
     "execution_count": 13,
     "metadata": {},
     "output_type": "execute_result"
    },
    {
     "data": {
      "image/png": "[encoded data removed]",
      "text/plain": [
       "<Figure size 432x288 with 1 Axes>"
      ]
     },
     "metadata": {
      "needs_background": "light"
     },
     "output_type": "display_data"
    }
   ],
   "source": [
    "growthrateeapdf.hist(histtype = \"stepfilled\", bins=10)"
   ]
  },
  {
   "cell_type": "markdown",
   "metadata": {},
   "source": [
    "### 2. One year with substantial change\n",
    "Identify Canada as the country of interest"
   ]
  },
  {
   "cell_type": "code",
   "execution_count": 15,
   "metadata": {
    "scrolled": true
   },
   "outputs": [
    {
     "name": "stdout",
     "output_type": "stream",
     "text": [
      "The growth rate per year for Canada:\n",
      "    2010      2011      2012      2013      2014      2015      2016  \\\n",
      "31   NaN  0.097814  0.008761 -0.000671 -0.032021 -0.144928 -0.028509   \n",
      "\n",
      "        2017      2018      2019  \n",
      "31  0.066591  0.026236 -0.002572  \n",
      "We can see there is a large decrease of 14% in year 2015\n",
      "This amounts to :  [-7394.37]\n"
     ]
    }
   ],
   "source": [
    "canada = df[(df.Country==\"Canada\")]\n",
    "print(\"The growth rate per year for Canada:\")\n",
    "print(canada[[\"2010\",\"2011\",\"2012\",\"2013\",\"2014\",\"2015\",\"2016\",\"2017\",\"2018\",\"2019\"]].pct_change(axis='columns'))\n",
    "print(\"We can see there is a large decrease of 14% in year 2015\")\n",
    "difference = canada[\"2015\"]-canada[\"2014\"]\n",
    "print(\"This amounts to : \", difference.values)"
   ]
  },
  {
   "cell_type": "markdown",
   "metadata": {},
   "source": [
    "This could be caused by the federal election in 2015"
   ]
  },
  {
   "cell_type": "code",
   "execution_count": null,
   "metadata": {},
   "outputs": [],
   "source": []
  }
 ],
 "metadata": {
  "kernelspec": {
   "display_name": "Python 3",
   "language": "python",
   "name": "python3"
  },
  "language_info": {
   "codemirror_mode": {
    "name": "ipython",
    "version": 3
   },
   "file_extension": ".py",
   "mimetype": "text/x-python",
   "name": "python",
   "nbconvert_exporter": "python",
   "pygments_lexer": "ipython3",
   "version": "3.8.5"
  }
 },
 "nbformat": 4,
 "nbformat_minor": 4
}
